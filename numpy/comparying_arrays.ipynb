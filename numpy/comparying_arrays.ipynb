{
 "cells": [
  {
   "cell_type": "code",
   "execution_count": 1,
   "id": "95ec37a9-f246-40bf-8d09-85c58b12b342",
   "metadata": {},
   "outputs": [],
   "source": [
    "import numpy as np"
   ]
  },
  {
   "cell_type": "code",
   "execution_count": 2,
   "id": "e1aba97c-7234-4df2-8740-00756c2ce061",
   "metadata": {},
   "outputs": [],
   "source": [
    "np_equal_array_one = np.array([1, 2, 3])\n",
    "np_equal_array_two = np.array([1, 2, 3])\n",
    "np_equal_array_three = np.array([4, 5, 3])"
   ]
  },
  {
   "cell_type": "code",
   "execution_count": 9,
   "id": "fda0f502-b398-453e-99b0-5c7d45ddbc96",
   "metadata": {},
   "outputs": [
    {
     "data": {
      "text/plain": [
       "array([ True,  True,  True])"
      ]
     },
     "execution_count": 9,
     "metadata": {},
     "output_type": "execute_result"
    }
   ],
   "source": [
    "np.equal(np_equal_array_one, np_equal_array_two)"
   ]
  },
  {
   "cell_type": "code",
   "execution_count": 5,
   "id": "013b38de-b553-4ab6-a5e1-d1e87233de93",
   "metadata": {},
   "outputs": [
    {
     "data": {
      "text/plain": [
       "array([False, False,  True])"
      ]
     },
     "execution_count": 5,
     "metadata": {},
     "output_type": "execute_result"
    }
   ],
   "source": [
    "np.equal(np_equal_array_one, np_equal_array_three)"
   ]
  },
  {
   "cell_type": "code",
   "execution_count": 7,
   "id": "aef87ddf-a417-413f-81ae-ef194dd9a939",
   "metadata": {},
   "outputs": [
    {
     "data": {
      "text/plain": [
       "True"
      ]
     },
     "execution_count": 7,
     "metadata": {},
     "output_type": "execute_result"
    }
   ],
   "source": [
    "np.array_equal(np_equal_array_one, np_equal_array_two)"
   ]
  },
  {
   "cell_type": "code",
   "execution_count": 8,
   "id": "64269b7d-098e-4f6d-953a-b896ff528696",
   "metadata": {
    "editable": true,
    "slideshow": {
     "slide_type": ""
    },
    "tags": []
   },
   "outputs": [
    {
     "data": {
      "text/plain": [
       "False"
      ]
     },
     "execution_count": 8,
     "metadata": {},
     "output_type": "execute_result"
    }
   ],
   "source": [
    "np.array_equal(np_equal_array_one, np_equal_array_three)"
   ]
  }
 ],
 "metadata": {
  "kernelspec": {
   "display_name": "Python 3 (ipykernel)",
   "language": "python",
   "name": "python3"
  },
  "language_info": {
   "codemirror_mode": {
    "name": "ipython",
    "version": 3
   },
   "file_extension": ".py",
   "mimetype": "text/x-python",
   "name": "python",
   "nbconvert_exporter": "python",
   "pygments_lexer": "ipython3",
   "version": "3.11.7"
  }
 },
 "nbformat": 4,
 "nbformat_minor": 5
}
