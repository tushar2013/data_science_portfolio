{
 "cells": [
  {
   "cell_type": "markdown",
   "id": "a758d09a-844d-4503-b482-1ca1f09b143f",
   "metadata": {},
   "source": [
    "# Comparing arrays"
   ]
  },
  {
   "cell_type": "code",
   "execution_count": 1,
   "id": "95ec37a9-f246-40bf-8d09-85c58b12b342",
   "metadata": {},
   "outputs": [],
   "source": [
    "import numpy as np"
   ]
  },
  {
   "cell_type": "code",
   "execution_count": 2,
   "id": "e1aba97c-7234-4df2-8740-00756c2ce061",
   "metadata": {},
   "outputs": [],
   "source": [
    "np_equal_array_one = np.array([1, 2, 3])\n",
    "np_equal_array_two = np.array([1, 2, 3])\n",
    "np_equal_array_three = np.array([4, 5, 3])"
   ]
  },
  {
   "cell_type": "code",
   "execution_count": 9,
   "id": "fda0f502-b398-453e-99b0-5c7d45ddbc96",
   "metadata": {},
   "outputs": [
    {
     "data": {
      "text/plain": [
       "array([ True,  True,  True])"
      ]
     },
     "execution_count": 9,
     "metadata": {},
     "output_type": "execute_result"
    }
   ],
   "source": [
    "np.equal(np_equal_array_one, np_equal_array_two)"
   ]
  },
  {
   "cell_type": "code",
   "execution_count": 5,
   "id": "013b38de-b553-4ab6-a5e1-d1e87233de93",
   "metadata": {},
   "outputs": [
    {
     "data": {
      "text/plain": [
       "array([False, False,  True])"
      ]
     },
     "execution_count": 5,
     "metadata": {},
     "output_type": "execute_result"
    }
   ],
   "source": [
    "np.equal(np_equal_array_one, np_equal_array_three)"
   ]
  },
  {
   "cell_type": "code",
   "execution_count": 7,
   "id": "aef87ddf-a417-413f-81ae-ef194dd9a939",
   "metadata": {},
   "outputs": [
    {
     "data": {
      "text/plain": [
       "True"
      ]
     },
     "execution_count": 7,
     "metadata": {},
     "output_type": "execute_result"
    }
   ],
   "source": [
    "np.array_equal(np_equal_array_one, np_equal_array_two)"
   ]
  },
  {
   "cell_type": "code",
   "execution_count": 8,
   "id": "64269b7d-098e-4f6d-953a-b896ff528696",
   "metadata": {
    "editable": true,
    "slideshow": {
     "slide_type": ""
    },
    "tags": []
   },
   "outputs": [
    {
     "data": {
      "text/plain": [
       "False"
      ]
     },
     "execution_count": 8,
     "metadata": {},
     "output_type": "execute_result"
    }
   ],
   "source": [
    "np.array_equal(np_equal_array_one, np_equal_array_three)"
   ]
  },
  {
   "cell_type": "markdown",
   "id": "fca8fc32-9f7e-4767-bf68-5a0c96528244",
   "metadata": {},
   "source": [
    "# Aggregate Functions"
   ]
  },
  {
   "cell_type": "code",
   "execution_count": 10,
   "id": "f818c806-0fe5-4c5c-938c-a99454fd7b6a",
   "metadata": {},
   "outputs": [
    {
     "data": {
      "text/plain": [
       "6"
      ]
     },
     "execution_count": 10,
     "metadata": {},
     "output_type": "execute_result"
    }
   ],
   "source": [
    "np.sum(np_equal_array_one)"
   ]
  },
  {
   "cell_type": "code",
   "execution_count": 11,
   "id": "e78882b3-4b5c-4795-ab70-b456bc69d524",
   "metadata": {},
   "outputs": [
    {
     "data": {
      "text/plain": [
       "1"
      ]
     },
     "execution_count": 11,
     "metadata": {},
     "output_type": "execute_result"
    }
   ],
   "source": [
    "np.min(np_equal_array_one)"
   ]
  },
  {
   "cell_type": "code",
   "execution_count": 13,
   "id": "94e8f896-3174-4371-a99c-5c60f487dd89",
   "metadata": {},
   "outputs": [
    {
     "data": {
      "text/plain": [
       "2.0"
      ]
     },
     "execution_count": 13,
     "metadata": {},
     "output_type": "execute_result"
    }
   ],
   "source": [
    "np.mean(np_equal_array_one)"
   ]
  },
  {
   "cell_type": "code",
   "execution_count": 14,
   "id": "90baa677-0adb-4f4e-8505-7563523e8cdf",
   "metadata": {},
   "outputs": [
    {
     "data": {
      "text/plain": [
       "2.0"
      ]
     },
     "execution_count": 14,
     "metadata": {},
     "output_type": "execute_result"
    }
   ],
   "source": [
    "np.median(np_equal_array_one)"
   ]
  },
  {
   "cell_type": "code",
   "execution_count": 18,
   "id": "1f598ff8-2900-43a8-8821-aa1b9a4bd660",
   "metadata": {},
   "outputs": [
    {
     "data": {
      "text/plain": [
       "1.0"
      ]
     },
     "execution_count": 18,
     "metadata": {},
     "output_type": "execute_result"
    }
   ],
   "source": [
    "# Correlation of coffecient\n",
    "np.corrcoef(np_equal_array_one)"
   ]
  },
  {
   "cell_type": "code",
   "execution_count": 20,
   "id": "e9c0597f-5c8b-43ea-9df3-49c1685a73aa",
   "metadata": {},
   "outputs": [
    {
     "data": {
      "text/plain": [
       "0.816496580927726"
      ]
     },
     "execution_count": 20,
     "metadata": {},
     "output_type": "execute_result"
    }
   ],
   "source": [
    "# Standard Deviation\n",
    "np.std(np_equal_array_one)"
   ]
  },
  {
   "cell_type": "markdown",
   "id": "d32f23f9-215f-45d1-bdd9-8d1b0c00ad6a",
   "metadata": {},
   "source": [
    "# Braodcasting"
   ]
  },
  {
   "cell_type": "code",
   "execution_count": 21,
   "id": "e0129b8f-dc34-4d2c-a020-16897f80bbf5",
   "metadata": {},
   "outputs": [],
   "source": [
    "another_mat = np.array([[1,2,3], [3,4,5]])"
   ]
  },
  {
   "cell_type": "code",
   "execution_count": 24,
   "id": "17f2bc9a-d2e6-4b28-bc08-61b92e9b1e02",
   "metadata": {},
   "outputs": [
    {
     "data": {
      "text/plain": [
       "array([[2, 4, 6],\n",
       "       [4, 6, 8]])"
      ]
     },
     "execution_count": 24,
     "metadata": {},
     "output_type": "execute_result"
    }
   ],
   "source": [
    "another_mat + np_equal_array_one"
   ]
  },
  {
   "cell_type": "markdown",
   "id": "5329d497-3d77-41b9-bbd8-f28a94177ad9",
   "metadata": {},
   "source": [
    "# Concatenating"
   ]
  },
  {
   "cell_type": "code",
   "execution_count": 33,
   "id": "fd8c9433-596e-426d-8f76-51a5595adc70",
   "metadata": {},
   "outputs": [
    {
     "data": {
      "text/plain": [
       "array([1, 2, 3, 1, 2, 3])"
      ]
     },
     "execution_count": 33,
     "metadata": {},
     "output_type": "execute_result"
    }
   ],
   "source": [
    "np.concatenate((np_equal_array_one, np_equal_array_two))"
   ]
  },
  {
   "cell_type": "code",
   "execution_count": 34,
   "id": "37d3fc07-2d68-45fc-b106-0c9deb43df72",
   "metadata": {},
   "outputs": [
    {
     "data": {
      "text/plain": [
       "array([[1, 2, 3],\n",
       "       [1, 2, 3]])"
      ]
     },
     "execution_count": 34,
     "metadata": {},
     "output_type": "execute_result"
    }
   ],
   "source": [
    "np.vstack((np_equal_array_one, np_equal_array_two))"
   ]
  },
  {
   "cell_type": "code",
   "execution_count": 35,
   "id": "d1f86f62-6a65-4760-a3ff-16272338377b",
   "metadata": {},
   "outputs": [
    {
     "data": {
      "text/plain": [
       "array([1, 2, 3, 1, 2, 3])"
      ]
     },
     "execution_count": 35,
     "metadata": {},
     "output_type": "execute_result"
    }
   ],
   "source": [
    "np.hstack((np_equal_array_one, np_equal_array_two))"
   ]
  },
  {
   "cell_type": "code",
   "execution_count": 36,
   "id": "241d56d7-a3fc-44f3-9a2d-9372f0f8dd75",
   "metadata": {},
   "outputs": [
    {
     "data": {
      "text/plain": [
       "array([[1, 1],\n",
       "       [2, 2],\n",
       "       [3, 3]])"
      ]
     },
     "execution_count": 36,
     "metadata": {},
     "output_type": "execute_result"
    }
   ],
   "source": [
    "np.column_stack((np_equal_array_one, np_equal_array_two))"
   ]
  },
  {
   "cell_type": "code",
   "execution_count": 39,
   "id": "e4ab462b-65bc-439c-be4e-16c1f9057375",
   "metadata": {},
   "outputs": [
    {
     "data": {
      "text/plain": [
       "array([[ 0,  1,  2,  3],\n",
       "       [ 4,  5,  6,  7],\n",
       "       [ 8,  9, 10, 11],\n",
       "       [12, 13, 14, 15]])"
      ]
     },
     "execution_count": 39,
     "metadata": {},
     "output_type": "execute_result"
    }
   ],
   "source": [
    "x = np.arange(16).reshape(4,4)\n",
    "x"
   ]
  },
  {
   "cell_type": "code",
   "execution_count": 41,
   "id": "f7e92abc-3ae2-4537-8488-e53b4d36416b",
   "metadata": {},
   "outputs": [
    {
     "data": {
      "text/plain": [
       "[array([[ 0,  1],\n",
       "        [ 4,  5],\n",
       "        [ 8,  9],\n",
       "        [12, 13]]),\n",
       " array([[ 2,  3],\n",
       "        [ 6,  7],\n",
       "        [10, 11],\n",
       "        [14, 15]])]"
      ]
     },
     "execution_count": 41,
     "metadata": {},
     "output_type": "execute_result"
    }
   ],
   "source": [
    "np.hsplit(x, 2)"
   ]
  }
 ],
 "metadata": {
  "kernelspec": {
   "display_name": "Python 3 (ipykernel)",
   "language": "python",
   "name": "python3"
  },
  "language_info": {
   "codemirror_mode": {
    "name": "ipython",
    "version": 3
   },
   "file_extension": ".py",
   "mimetype": "text/x-python",
   "name": "python",
   "nbconvert_exporter": "python",
   "pygments_lexer": "ipython3",
   "version": "3.11.7"
  }
 },
 "nbformat": 4,
 "nbformat_minor": 5
}
