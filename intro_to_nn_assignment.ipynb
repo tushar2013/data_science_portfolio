{
 "cells": [
  {
   "cell_type": "code",
   "execution_count": 3,
   "id": "ebd7997b-178e-4b93-9091-265face526f6",
   "metadata": {},
   "outputs": [
    {
     "name": "stderr",
     "output_type": "stream",
     "text": [
      "2025-05-15 12:00:57.572298: I external/local_xla/xla/tsl/cuda/cudart_stub.cc:32] Could not find cuda drivers on your machine, GPU will not be used.\n",
      "2025-05-15 12:00:57.586068: I external/local_xla/xla/tsl/cuda/cudart_stub.cc:32] Could not find cuda drivers on your machine, GPU will not be used.\n",
      "2025-05-15 12:00:57.601981: E external/local_xla/xla/stream_executor/cuda/cuda_fft.cc:467] Unable to register cuFFT factory: Attempting to register factory for plugin cuFFT when one has already been registered\n",
      "WARNING: All log messages before absl::InitializeLog() is called are written to STDERR\n",
      "E0000 00:00:1747290657.619529    1016 cuda_dnn.cc:8579] Unable to register cuDNN factory: Attempting to register factory for plugin cuDNN when one has already been registered\n",
      "E0000 00:00:1747290657.626269    1016 cuda_blas.cc:1407] Unable to register cuBLAS factory: Attempting to register factory for plugin cuBLAS when one has already been registered\n",
      "W0000 00:00:1747290657.639062    1016 computation_placer.cc:177] computation placer already registered. Please check linkage and avoid linking the same target more than once.\n",
      "W0000 00:00:1747290657.639095    1016 computation_placer.cc:177] computation placer already registered. Please check linkage and avoid linking the same target more than once.\n",
      "W0000 00:00:1747290657.639096    1016 computation_placer.cc:177] computation placer already registered. Please check linkage and avoid linking the same target more than once.\n",
      "W0000 00:00:1747290657.639098    1016 computation_placer.cc:177] computation placer already registered. Please check linkage and avoid linking the same target more than once.\n",
      "2025-05-15 12:00:57.647155: I tensorflow/core/platform/cpu_feature_guard.cc:210] This TensorFlow binary is optimized to use available CPU instructions in performance-critical operations.\n",
      "To enable the following instructions: AVX2 FMA, in other operations, rebuild TensorFlow with the appropriate compiler flags.\n"
     ]
    },
    {
     "name": "stdout",
     "output_type": "stream",
     "text": [
      "Downloading data from https://storage.googleapis.com/tensorflow/tf-keras-datasets/mnist.npz\n",
      "\u001b[1m11490434/11490434\u001b[0m \u001b[32m━━━━━━━━━━━━━━━━━━━━\u001b[0m\u001b[37m\u001b[0m \u001b[1m5s\u001b[0m 0us/step\n"
     ]
    },
    {
     "name": "stderr",
     "output_type": "stream",
     "text": [
      "/home/neo/anaconda3/lib/python3.11/site-packages/keras/src/layers/reshaping/flatten.py:37: UserWarning: Do not pass an `input_shape`/`input_dim` argument to a layer. When using Sequential models, prefer using an `Input(shape)` object as the first layer in the model instead.\n",
      "  super().__init__(**kwargs)\n"
     ]
    },
    {
     "name": "stdout",
     "output_type": "stream",
     "text": [
      "Epoch 1/10\n"
     ]
    },
    {
     "name": "stderr",
     "output_type": "stream",
     "text": [
      "E0000 00:00:1747290667.533294    1016 cuda_executor.cc:1228] INTERNAL: CUDA Runtime error: Failed call to cudaGetRuntimeVersion: Error loading CUDA libraries. GPU will not be used.: Error loading CUDA libraries. GPU will not be used.\n",
      "W0000 00:00:1747290667.534044    1016 gpu_device.cc:2341] Cannot dlopen some GPU libraries. Please make sure the missing libraries mentioned above are installed properly if you would like to use GPU. Follow the guide at https://www.tensorflow.org/install/gpu for how to download and setup the required libraries for your platform.\n",
      "Skipping registering GPU devices...\n"
     ]
    },
    {
     "name": "stdout",
     "output_type": "stream",
     "text": [
      "1688/1688 - 2s - 1ms/step - accuracy: 0.8187 - loss: 0.6793 - val_accuracy: 0.9230 - val_loss: 0.2889\n",
      "Epoch 2/10\n",
      "1688/1688 - 2s - 1ms/step - accuracy: 0.9118 - loss: 0.3126 - val_accuracy: 0.9400 - val_loss: 0.2252\n",
      "Epoch 3/10\n",
      "1688/1688 - 2s - 1ms/step - accuracy: 0.9259 - loss: 0.2556 - val_accuracy: 0.9488 - val_loss: 0.1889\n",
      "Epoch 4/10\n",
      "1688/1688 - 2s - 1ms/step - accuracy: 0.9372 - loss: 0.2188 - val_accuracy: 0.9537 - val_loss: 0.1697\n",
      "Epoch 5/10\n",
      "1688/1688 - 2s - 1ms/step - accuracy: 0.9444 - loss: 0.1922 - val_accuracy: 0.9613 - val_loss: 0.1496\n",
      "Epoch 6/10\n",
      "1688/1688 - 2s - 1ms/step - accuracy: 0.9514 - loss: 0.1713 - val_accuracy: 0.9623 - val_loss: 0.1390\n",
      "Epoch 7/10\n",
      "1688/1688 - 2s - 1ms/step - accuracy: 0.9559 - loss: 0.1548 - val_accuracy: 0.9650 - val_loss: 0.1298\n",
      "Epoch 8/10\n",
      "1688/1688 - 2s - 1ms/step - accuracy: 0.9590 - loss: 0.1417 - val_accuracy: 0.9673 - val_loss: 0.1205\n",
      "Epoch 9/10\n",
      "1688/1688 - 2s - 1ms/step - accuracy: 0.9630 - loss: 0.1298 - val_accuracy: 0.9685 - val_loss: 0.1148\n",
      "Epoch 10/10\n",
      "1688/1688 - 2s - 1ms/step - accuracy: 0.9651 - loss: 0.1202 - val_accuracy: 0.9690 - val_loss: 0.1112\n",
      "\u001b[1m313/313\u001b[0m \u001b[32m━━━━━━━━━━━━━━━━━━━━\u001b[0m\u001b[37m\u001b[0m \u001b[1m0s\u001b[0m 984us/step - accuracy: 0.9564 - loss: 0.1432\n",
      "\n",
      "Test Accuracy: 0.9641\n",
      "\u001b[1m1/1\u001b[0m \u001b[32m━━━━━━━━━━━━━━━━━━━━\u001b[0m\u001b[37m\u001b[0m \u001b[1m0s\u001b[0m 37ms/step\n",
      "\n",
      "Predicted: [7 2 1 0 4]\n",
      "Actual   : [7 2 1 0 4]\n"
     ]
    }
   ],
   "source": [
    "# Import necessary libraries\n",
    "import numpy as np\n",
    "import matplotlib.pyplot as plt\n",
    "%matplotlib inline\n",
    "import tensorflow as tf\n",
    "from tensorflow.keras.datasets import mnist\n",
    "from tensorflow.keras.models import Sequential\n",
    "from tensorflow.keras.layers import Dense, Flatten\n",
    "from tensorflow.keras.utils import to_categorical\n",
    "\n",
    "# Load the MNIST dataset\n",
    "(x_train, y_train), (x_test, y_test) = mnist.load_data()\n",
    "\n",
    "# Normalize the image pixel values to the range [0, 1]\n",
    "x_train = x_train.astype(\"float32\") / 255.0\n",
    "x_test = x_test.astype(\"float32\") / 255.0\n",
    "\n",
    "# Convert labels to one-hot encoded format\n",
    "y_train_onehot = to_categorical(y_train, 10)\n",
    "y_test_onehot = to_categorical(y_test, 10)\n",
    "\n",
    "# Build the neural network model\n",
    "model = Sequential([\n",
    "    Flatten(input_shape=(28, 28)),\n",
    "    Dense(128, activation='relu'),\n",
    "    Dense(64, activation='relu'),\n",
    "    Dense(10, activation='softmax')  # For 10 digit classes\n",
    "])\n",
    "\n",
    "# Compile the model\n",
    "model.compile(optimizer='sgd',\n",
    "              loss='categorical_crossentropy',\n",
    "              metrics=['accuracy'])\n",
    "\n",
    "# Train the model\n",
    "history = model.fit(x_train, y_train_onehot,\n",
    "                    epochs=10,\n",
    "                    batch_size=32,\n",
    "                    validation_split=0.1,\n",
    "                    verbose=2)\n",
    "\n",
    "# Evaluate on test data\n",
    "test_loss, test_accuracy = model.evaluate(x_test, y_test_onehot)\n",
    "print(f\"\\nTest Accuracy: {test_accuracy:.4f}\")\n",
    "\n",
    "# Predict on first 5 test samples\n",
    "predictions = model.predict(x_test[:5])\n",
    "predicted_classes = np.argmax(predictions, axis=1)\n",
    "print(\"\\nPredicted:\", predicted_classes)\n",
    "print(\"Actual   :\", y_test[:5])\n"
   ]
  },
  {
   "cell_type": "code",
   "execution_count": null,
   "id": "0dc2fcef-c9e3-43c2-b361-49152f4bf8f0",
   "metadata": {},
   "outputs": [],
   "source": []
  }
 ],
 "metadata": {
  "kernelspec": {
   "display_name": "Python 3 (ipykernel)",
   "language": "python",
   "name": "python3"
  },
  "language_info": {
   "codemirror_mode": {
    "name": "ipython",
    "version": 3
   },
   "file_extension": ".py",
   "mimetype": "text/x-python",
   "name": "python",
   "nbconvert_exporter": "python",
   "pygments_lexer": "ipython3",
   "version": "3.11.7"
  }
 },
 "nbformat": 4,
 "nbformat_minor": 5
}
